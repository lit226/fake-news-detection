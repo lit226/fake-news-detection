{
 "cells": [
  {
   "cell_type": "code",
   "execution_count": 1,
   "id": "bc513740",
   "metadata": {
    "_cell_guid": "b1076dfc-b9ad-4769-8c92-a6c4dae69d19",
    "_uuid": "8f2839f25d086af736a60e9eeb907d3b93b6e0e5",
    "execution": {
     "iopub.execute_input": "2022-01-08T13:01:44.138944Z",
     "iopub.status.busy": "2022-01-08T13:01:44.136629Z",
     "iopub.status.idle": "2022-01-08T13:01:45.770896Z",
     "shell.execute_reply": "2022-01-08T13:01:45.771694Z",
     "shell.execute_reply.started": "2022-01-08T13:00:08.159137Z"
    },
    "papermill": {
     "duration": 1.669046,
     "end_time": "2022-01-08T13:01:45.772019",
     "exception": false,
     "start_time": "2022-01-08T13:01:44.102973",
     "status": "completed"
    },
    "tags": []
   },
   "outputs": [],
   "source": [
    "import pandas as pd\n",
    "import numpy as np\n",
    "import nltk\n",
    "from nltk.corpus  import stopwords"
   ]
  },
  {
   "cell_type": "code",
   "execution_count": 2,
   "id": "12fa1cba",
   "metadata": {
    "execution": {
     "iopub.execute_input": "2022-01-08T13:01:45.833625Z",
     "iopub.status.busy": "2022-01-08T13:01:45.832830Z",
     "iopub.status.idle": "2022-01-08T13:01:48.531887Z",
     "shell.execute_reply": "2022-01-08T13:01:48.531151Z",
     "shell.execute_reply.started": "2022-01-08T13:00:08.170105Z"
    },
    "papermill": {
     "duration": 2.730941,
     "end_time": "2022-01-08T13:01:48.532079",
     "exception": false,
     "start_time": "2022-01-08T13:01:45.801138",
     "status": "completed"
    },
    "tags": []
   },
   "outputs": [
    {
     "data": {
      "text/html": [
       "<div>\n",
       "<style scoped>\n",
       "    .dataframe tbody tr th:only-of-type {\n",
       "        vertical-align: middle;\n",
       "    }\n",
       "\n",
       "    .dataframe tbody tr th {\n",
       "        vertical-align: top;\n",
       "    }\n",
       "\n",
       "    .dataframe thead th {\n",
       "        text-align: right;\n",
       "    }\n",
       "</style>\n",
       "<table border=\"1\" class=\"dataframe\">\n",
       "  <thead>\n",
       "    <tr style=\"text-align: right;\">\n",
       "      <th></th>\n",
       "      <th>title</th>\n",
       "      <th>text</th>\n",
       "      <th>subject</th>\n",
       "      <th>date</th>\n",
       "    </tr>\n",
       "  </thead>\n",
       "  <tbody>\n",
       "    <tr>\n",
       "      <th>0</th>\n",
       "      <td>Donald Trump Sends Out Embarrassing New Year’...</td>\n",
       "      <td>Donald Trump just couldn t wish all Americans ...</td>\n",
       "      <td>News</td>\n",
       "      <td>December 31, 2017</td>\n",
       "    </tr>\n",
       "    <tr>\n",
       "      <th>1</th>\n",
       "      <td>Drunk Bragging Trump Staffer Started Russian ...</td>\n",
       "      <td>House Intelligence Committee Chairman Devin Nu...</td>\n",
       "      <td>News</td>\n",
       "      <td>December 31, 2017</td>\n",
       "    </tr>\n",
       "    <tr>\n",
       "      <th>2</th>\n",
       "      <td>Sheriff David Clarke Becomes An Internet Joke...</td>\n",
       "      <td>On Friday, it was revealed that former Milwauk...</td>\n",
       "      <td>News</td>\n",
       "      <td>December 30, 2017</td>\n",
       "    </tr>\n",
       "    <tr>\n",
       "      <th>3</th>\n",
       "      <td>Trump Is So Obsessed He Even Has Obama’s Name...</td>\n",
       "      <td>On Christmas day, Donald Trump announced that ...</td>\n",
       "      <td>News</td>\n",
       "      <td>December 29, 2017</td>\n",
       "    </tr>\n",
       "    <tr>\n",
       "      <th>4</th>\n",
       "      <td>Pope Francis Just Called Out Donald Trump Dur...</td>\n",
       "      <td>Pope Francis used his annual Christmas Day mes...</td>\n",
       "      <td>News</td>\n",
       "      <td>December 25, 2017</td>\n",
       "    </tr>\n",
       "  </tbody>\n",
       "</table>\n",
       "</div>"
      ],
      "text/plain": [
       "                                               title  \\\n",
       "0   Donald Trump Sends Out Embarrassing New Year’...   \n",
       "1   Drunk Bragging Trump Staffer Started Russian ...   \n",
       "2   Sheriff David Clarke Becomes An Internet Joke...   \n",
       "3   Trump Is So Obsessed He Even Has Obama’s Name...   \n",
       "4   Pope Francis Just Called Out Donald Trump Dur...   \n",
       "\n",
       "                                                text subject  \\\n",
       "0  Donald Trump just couldn t wish all Americans ...    News   \n",
       "1  House Intelligence Committee Chairman Devin Nu...    News   \n",
       "2  On Friday, it was revealed that former Milwauk...    News   \n",
       "3  On Christmas day, Donald Trump announced that ...    News   \n",
       "4  Pope Francis used his annual Christmas Day mes...    News   \n",
       "\n",
       "                date  \n",
       "0  December 31, 2017  \n",
       "1  December 31, 2017  \n",
       "2  December 30, 2017  \n",
       "3  December 29, 2017  \n",
       "4  December 25, 2017  "
      ]
     },
     "execution_count": 2,
     "metadata": {},
     "output_type": "execute_result"
    }
   ],
   "source": [
    "fake_news = pd.read_csv(\"../input/fake-news-detection/Fake.csv\")\n",
    "true_news = pd.read_csv(\"../input/fake-news-detection/True.csv\")\n",
    "fake_news.head()"
   ]
  },
  {
   "cell_type": "code",
   "execution_count": 3,
   "id": "319d993f",
   "metadata": {
    "execution": {
     "iopub.execute_input": "2022-01-08T13:01:48.599351Z",
     "iopub.status.busy": "2022-01-08T13:01:48.598521Z",
     "iopub.status.idle": "2022-01-08T13:01:48.602271Z",
     "shell.execute_reply": "2022-01-08T13:01:48.602755Z",
     "shell.execute_reply.started": "2022-01-08T13:00:11.563647Z"
    },
    "papermill": {
     "duration": 0.04307,
     "end_time": "2022-01-08T13:01:48.602914",
     "exception": false,
     "start_time": "2022-01-08T13:01:48.559844",
     "status": "completed"
    },
    "tags": []
   },
   "outputs": [
    {
     "data": {
      "text/html": [
       "<div>\n",
       "<style scoped>\n",
       "    .dataframe tbody tr th:only-of-type {\n",
       "        vertical-align: middle;\n",
       "    }\n",
       "\n",
       "    .dataframe tbody tr th {\n",
       "        vertical-align: top;\n",
       "    }\n",
       "\n",
       "    .dataframe thead th {\n",
       "        text-align: right;\n",
       "    }\n",
       "</style>\n",
       "<table border=\"1\" class=\"dataframe\">\n",
       "  <thead>\n",
       "    <tr style=\"text-align: right;\">\n",
       "      <th></th>\n",
       "      <th>title</th>\n",
       "      <th>text</th>\n",
       "      <th>subject</th>\n",
       "      <th>date</th>\n",
       "    </tr>\n",
       "  </thead>\n",
       "  <tbody>\n",
       "    <tr>\n",
       "      <th>0</th>\n",
       "      <td>As U.S. budget fight looms, Republicans flip t...</td>\n",
       "      <td>WASHINGTON (Reuters) - The head of a conservat...</td>\n",
       "      <td>politicsNews</td>\n",
       "      <td>December 31, 2017</td>\n",
       "    </tr>\n",
       "    <tr>\n",
       "      <th>1</th>\n",
       "      <td>U.S. military to accept transgender recruits o...</td>\n",
       "      <td>WASHINGTON (Reuters) - Transgender people will...</td>\n",
       "      <td>politicsNews</td>\n",
       "      <td>December 29, 2017</td>\n",
       "    </tr>\n",
       "    <tr>\n",
       "      <th>2</th>\n",
       "      <td>Senior U.S. Republican senator: 'Let Mr. Muell...</td>\n",
       "      <td>WASHINGTON (Reuters) - The special counsel inv...</td>\n",
       "      <td>politicsNews</td>\n",
       "      <td>December 31, 2017</td>\n",
       "    </tr>\n",
       "    <tr>\n",
       "      <th>3</th>\n",
       "      <td>FBI Russia probe helped by Australian diplomat...</td>\n",
       "      <td>WASHINGTON (Reuters) - Trump campaign adviser ...</td>\n",
       "      <td>politicsNews</td>\n",
       "      <td>December 30, 2017</td>\n",
       "    </tr>\n",
       "    <tr>\n",
       "      <th>4</th>\n",
       "      <td>Trump wants Postal Service to charge 'much mor...</td>\n",
       "      <td>SEATTLE/WASHINGTON (Reuters) - President Donal...</td>\n",
       "      <td>politicsNews</td>\n",
       "      <td>December 29, 2017</td>\n",
       "    </tr>\n",
       "  </tbody>\n",
       "</table>\n",
       "</div>"
      ],
      "text/plain": [
       "                                               title  \\\n",
       "0  As U.S. budget fight looms, Republicans flip t...   \n",
       "1  U.S. military to accept transgender recruits o...   \n",
       "2  Senior U.S. Republican senator: 'Let Mr. Muell...   \n",
       "3  FBI Russia probe helped by Australian diplomat...   \n",
       "4  Trump wants Postal Service to charge 'much mor...   \n",
       "\n",
       "                                                text       subject  \\\n",
       "0  WASHINGTON (Reuters) - The head of a conservat...  politicsNews   \n",
       "1  WASHINGTON (Reuters) - Transgender people will...  politicsNews   \n",
       "2  WASHINGTON (Reuters) - The special counsel inv...  politicsNews   \n",
       "3  WASHINGTON (Reuters) - Trump campaign adviser ...  politicsNews   \n",
       "4  SEATTLE/WASHINGTON (Reuters) - President Donal...  politicsNews   \n",
       "\n",
       "                 date  \n",
       "0  December 31, 2017   \n",
       "1  December 29, 2017   \n",
       "2  December 31, 2017   \n",
       "3  December 30, 2017   \n",
       "4  December 29, 2017   "
      ]
     },
     "execution_count": 3,
     "metadata": {},
     "output_type": "execute_result"
    }
   ],
   "source": [
    "true_news.head()"
   ]
  },
  {
   "cell_type": "code",
   "execution_count": 4,
   "id": "7107d540",
   "metadata": {
    "execution": {
     "iopub.execute_input": "2022-01-08T13:01:48.673500Z",
     "iopub.status.busy": "2022-01-08T13:01:48.672309Z",
     "iopub.status.idle": "2022-01-08T13:01:48.712930Z",
     "shell.execute_reply": "2022-01-08T13:01:48.712092Z",
     "shell.execute_reply.started": "2022-01-08T13:00:11.575363Z"
    },
    "papermill": {
     "duration": 0.083896,
     "end_time": "2022-01-08T13:01:48.713178",
     "exception": false,
     "start_time": "2022-01-08T13:01:48.629282",
     "status": "completed"
    },
    "tags": []
   },
   "outputs": [
    {
     "name": "stdout",
     "output_type": "stream",
     "text": [
      "<class 'pandas.core.frame.DataFrame'>\n",
      "RangeIndex: 23481 entries, 0 to 23480\n",
      "Data columns (total 4 columns):\n",
      " #   Column   Non-Null Count  Dtype \n",
      "---  ------   --------------  ----- \n",
      " 0   title    23481 non-null  object\n",
      " 1   text     23481 non-null  object\n",
      " 2   subject  23481 non-null  object\n",
      " 3   date     23481 non-null  object\n",
      "dtypes: object(4)\n",
      "memory usage: 733.9+ KB\n",
      "None\n",
      "<class 'pandas.core.frame.DataFrame'>\n",
      "RangeIndex: 21417 entries, 0 to 21416\n",
      "Data columns (total 4 columns):\n",
      " #   Column   Non-Null Count  Dtype \n",
      "---  ------   --------------  ----- \n",
      " 0   title    21417 non-null  object\n",
      " 1   text     21417 non-null  object\n",
      " 2   subject  21417 non-null  object\n",
      " 3   date     21417 non-null  object\n",
      "dtypes: object(4)\n",
      "memory usage: 669.4+ KB\n",
      "None\n"
     ]
    }
   ],
   "source": [
    "print(fake_news.info())\n",
    "print(true_news.info())"
   ]
  },
  {
   "cell_type": "code",
   "execution_count": 5,
   "id": "7a62e01e",
   "metadata": {
    "execution": {
     "iopub.execute_input": "2022-01-08T13:01:48.778123Z",
     "iopub.status.busy": "2022-01-08T13:01:48.777100Z",
     "iopub.status.idle": "2022-01-08T13:01:48.785232Z",
     "shell.execute_reply": "2022-01-08T13:01:48.784715Z",
     "shell.execute_reply.started": "2022-01-08T13:00:11.626707Z"
    },
    "papermill": {
     "duration": 0.042419,
     "end_time": "2022-01-08T13:01:48.785379",
     "exception": false,
     "start_time": "2022-01-08T13:01:48.742960",
     "status": "completed"
    },
    "tags": []
   },
   "outputs": [
    {
     "name": "stdout",
     "output_type": "stream",
     "text": [
      "['News' 'politics' 'Government News' 'left-news' 'US_News' 'Middle-east']\n",
      "['politicsNews' 'worldnews']\n"
     ]
    }
   ],
   "source": [
    "print(fake_news.subject.unique())\n",
    "print(true_news.subject.unique())"
   ]
  },
  {
   "cell_type": "code",
   "execution_count": 6,
   "id": "3b06f3a0",
   "metadata": {
    "execution": {
     "iopub.execute_input": "2022-01-08T13:01:48.852530Z",
     "iopub.status.busy": "2022-01-08T13:01:48.850247Z",
     "iopub.status.idle": "2022-01-08T13:01:48.853340Z",
     "shell.execute_reply": "2022-01-08T13:01:48.853925Z",
     "shell.execute_reply.started": "2022-01-08T13:00:11.637804Z"
    },
    "papermill": {
     "duration": 0.039684,
     "end_time": "2022-01-08T13:01:48.854106",
     "exception": false,
     "start_time": "2022-01-08T13:01:48.814422",
     "status": "completed"
    },
    "tags": []
   },
   "outputs": [],
   "source": [
    "fake_news['class'] = 0\n",
    "true_news['class'] = 1"
   ]
  },
  {
   "cell_type": "code",
   "execution_count": 7,
   "id": "743ccef4",
   "metadata": {
    "execution": {
     "iopub.execute_input": "2022-01-08T13:01:48.919369Z",
     "iopub.status.busy": "2022-01-08T13:01:48.918554Z",
     "iopub.status.idle": "2022-01-08T13:01:48.922036Z",
     "shell.execute_reply": "2022-01-08T13:01:48.922682Z",
     "shell.execute_reply.started": "2022-01-08T13:00:11.645921Z"
    },
    "papermill": {
     "duration": 0.038963,
     "end_time": "2022-01-08T13:01:48.922842",
     "exception": false,
     "start_time": "2022-01-08T13:01:48.883879",
     "status": "completed"
    },
    "tags": []
   },
   "outputs": [
    {
     "data": {
      "text/plain": [
       "(21417, 5)"
      ]
     },
     "execution_count": 7,
     "metadata": {},
     "output_type": "execute_result"
    }
   ],
   "source": [
    "true_news.shape"
   ]
  },
  {
   "cell_type": "code",
   "execution_count": 8,
   "id": "3acf685d",
   "metadata": {
    "execution": {
     "iopub.execute_input": "2022-01-08T13:01:48.984920Z",
     "iopub.status.busy": "2022-01-08T13:01:48.983884Z",
     "iopub.status.idle": "2022-01-08T13:01:48.994929Z",
     "shell.execute_reply": "2022-01-08T13:01:48.994336Z",
     "shell.execute_reply.started": "2022-01-08T13:00:11.655010Z"
    },
    "papermill": {
     "duration": 0.043223,
     "end_time": "2022-01-08T13:01:48.995103",
     "exception": false,
     "start_time": "2022-01-08T13:01:48.951880",
     "status": "completed"
    },
    "tags": []
   },
   "outputs": [],
   "source": [
    "merge_data = pd.concat([true_news,fake_news],axis=0)"
   ]
  },
  {
   "cell_type": "code",
   "execution_count": 9,
   "id": "55725392",
   "metadata": {
    "execution": {
     "iopub.execute_input": "2022-01-08T13:01:49.060119Z",
     "iopub.status.busy": "2022-01-08T13:01:49.059307Z",
     "iopub.status.idle": "2022-01-08T13:01:49.062754Z",
     "shell.execute_reply": "2022-01-08T13:01:49.063332Z",
     "shell.execute_reply.started": "2022-01-08T13:00:11.668033Z"
    },
    "papermill": {
     "duration": 0.03887,
     "end_time": "2022-01-08T13:01:49.063498",
     "exception": false,
     "start_time": "2022-01-08T13:01:49.024628",
     "status": "completed"
    },
    "tags": []
   },
   "outputs": [
    {
     "data": {
      "text/plain": [
       "(44898, 5)"
      ]
     },
     "execution_count": 9,
     "metadata": {},
     "output_type": "execute_result"
    }
   ],
   "source": [
    "merge_data.shape"
   ]
  },
  {
   "cell_type": "code",
   "execution_count": 10,
   "id": "51a0f684",
   "metadata": {
    "execution": {
     "iopub.execute_input": "2022-01-08T13:01:49.127767Z",
     "iopub.status.busy": "2022-01-08T13:01:49.124728Z",
     "iopub.status.idle": "2022-01-08T13:01:49.145672Z",
     "shell.execute_reply": "2022-01-08T13:01:49.146119Z",
     "shell.execute_reply.started": "2022-01-08T13:00:11.675921Z"
    },
    "papermill": {
     "duration": 0.053407,
     "end_time": "2022-01-08T13:01:49.146306",
     "exception": false,
     "start_time": "2022-01-08T13:01:49.092899",
     "status": "completed"
    },
    "tags": []
   },
   "outputs": [],
   "source": [
    "merge_data= merge_data.sample(frac=1).reset_index()"
   ]
  },
  {
   "cell_type": "code",
   "execution_count": 11,
   "id": "f73b2afc",
   "metadata": {
    "execution": {
     "iopub.execute_input": "2022-01-08T13:01:49.221721Z",
     "iopub.status.busy": "2022-01-08T13:01:49.220264Z",
     "iopub.status.idle": "2022-01-08T13:01:49.224305Z",
     "shell.execute_reply": "2022-01-08T13:01:49.224818Z",
     "shell.execute_reply.started": "2022-01-08T13:00:11.700822Z"
    },
    "papermill": {
     "duration": 0.04978,
     "end_time": "2022-01-08T13:01:49.225001",
     "exception": false,
     "start_time": "2022-01-08T13:01:49.175221",
     "status": "completed"
    },
    "tags": []
   },
   "outputs": [
    {
     "data": {
      "text/html": [
       "<div>\n",
       "<style scoped>\n",
       "    .dataframe tbody tr th:only-of-type {\n",
       "        vertical-align: middle;\n",
       "    }\n",
       "\n",
       "    .dataframe tbody tr th {\n",
       "        vertical-align: top;\n",
       "    }\n",
       "\n",
       "    .dataframe thead th {\n",
       "        text-align: right;\n",
       "    }\n",
       "</style>\n",
       "<table border=\"1\" class=\"dataframe\">\n",
       "  <thead>\n",
       "    <tr style=\"text-align: right;\">\n",
       "      <th></th>\n",
       "      <th>index</th>\n",
       "      <th>title</th>\n",
       "      <th>text</th>\n",
       "      <th>subject</th>\n",
       "      <th>date</th>\n",
       "      <th>class</th>\n",
       "    </tr>\n",
       "  </thead>\n",
       "  <tbody>\n",
       "    <tr>\n",
       "      <th>0</th>\n",
       "      <td>8938</td>\n",
       "      <td>Trump vows to reopen, or toss, NAFTA pact with...</td>\n",
       "      <td>MONESSEN, Pennsylvania/WASHINGTON (Reuters) - ...</td>\n",
       "      <td>politicsNews</td>\n",
       "      <td>June 28, 2016</td>\n",
       "      <td>1</td>\n",
       "    </tr>\n",
       "    <tr>\n",
       "      <th>1</th>\n",
       "      <td>21654</td>\n",
       "      <td>AIR FORCE WILL EASE POLICY ON DISCHARGING TRAN...</td>\n",
       "      <td>As a side note, I m just curious when did the ...</td>\n",
       "      <td>left-news</td>\n",
       "      <td>Jun 11, 2015</td>\n",
       "      <td>0</td>\n",
       "    </tr>\n",
       "    <tr>\n",
       "      <th>2</th>\n",
       "      <td>19967</td>\n",
       "      <td>DR. WOLF CALLS OUT HILLARY For Lying About Pne...</td>\n",
       "      <td>Dr. Milton Wolf seems to have take offense at ...</td>\n",
       "      <td>left-news</td>\n",
       "      <td>Sep 16, 2016</td>\n",
       "      <td>0</td>\n",
       "    </tr>\n",
       "    <tr>\n",
       "      <th>3</th>\n",
       "      <td>17030</td>\n",
       "      <td>PRISON PORK BAN: We Have Great News For Prison...</td>\n",
       "      <td>Just start asking questions and the Obama admi...</td>\n",
       "      <td>Government News</td>\n",
       "      <td>Oct 17, 2015</td>\n",
       "      <td>0</td>\n",
       "    </tr>\n",
       "    <tr>\n",
       "      <th>4</th>\n",
       "      <td>624</td>\n",
       "      <td>Republican Senator Johnson opposes Senate tax ...</td>\n",
       "      <td>WASHINGTON (Reuters) - Republican U.S. Senator...</td>\n",
       "      <td>politicsNews</td>\n",
       "      <td>November 15, 2017</td>\n",
       "      <td>1</td>\n",
       "    </tr>\n",
       "  </tbody>\n",
       "</table>\n",
       "</div>"
      ],
      "text/plain": [
       "   index                                              title  \\\n",
       "0   8938  Trump vows to reopen, or toss, NAFTA pact with...   \n",
       "1  21654  AIR FORCE WILL EASE POLICY ON DISCHARGING TRAN...   \n",
       "2  19967  DR. WOLF CALLS OUT HILLARY For Lying About Pne...   \n",
       "3  17030  PRISON PORK BAN: We Have Great News For Prison...   \n",
       "4    624  Republican Senator Johnson opposes Senate tax ...   \n",
       "\n",
       "                                                text          subject  \\\n",
       "0  MONESSEN, Pennsylvania/WASHINGTON (Reuters) - ...     politicsNews   \n",
       "1  As a side note, I m just curious when did the ...        left-news   \n",
       "2  Dr. Milton Wolf seems to have take offense at ...        left-news   \n",
       "3  Just start asking questions and the Obama admi...  Government News   \n",
       "4  WASHINGTON (Reuters) - Republican U.S. Senator...     politicsNews   \n",
       "\n",
       "                 date  class  \n",
       "0      June 28, 2016       1  \n",
       "1        Jun 11, 2015      0  \n",
       "2        Sep 16, 2016      0  \n",
       "3        Oct 17, 2015      0  \n",
       "4  November 15, 2017       1  "
      ]
     },
     "execution_count": 11,
     "metadata": {},
     "output_type": "execute_result"
    }
   ],
   "source": [
    "merge_data.head()"
   ]
  },
  {
   "cell_type": "code",
   "execution_count": 12,
   "id": "e78cff21",
   "metadata": {
    "execution": {
     "iopub.execute_input": "2022-01-08T13:01:49.293466Z",
     "iopub.status.busy": "2022-01-08T13:01:49.292224Z",
     "iopub.status.idle": "2022-01-08T13:01:49.303739Z",
     "shell.execute_reply": "2022-01-08T13:01:49.304286Z",
     "shell.execute_reply.started": "2022-01-08T13:00:11.714451Z"
    },
    "papermill": {
     "duration": 0.049593,
     "end_time": "2022-01-08T13:01:49.304455",
     "exception": false,
     "start_time": "2022-01-08T13:01:49.254862",
     "status": "completed"
    },
    "tags": []
   },
   "outputs": [
    {
     "data": {
      "text/html": [
       "<div>\n",
       "<style scoped>\n",
       "    .dataframe tbody tr th:only-of-type {\n",
       "        vertical-align: middle;\n",
       "    }\n",
       "\n",
       "    .dataframe tbody tr th {\n",
       "        vertical-align: top;\n",
       "    }\n",
       "\n",
       "    .dataframe thead th {\n",
       "        text-align: right;\n",
       "    }\n",
       "</style>\n",
       "<table border=\"1\" class=\"dataframe\">\n",
       "  <thead>\n",
       "    <tr style=\"text-align: right;\">\n",
       "      <th></th>\n",
       "      <th>text</th>\n",
       "      <th>class</th>\n",
       "    </tr>\n",
       "  </thead>\n",
       "  <tbody>\n",
       "    <tr>\n",
       "      <th>0</th>\n",
       "      <td>MONESSEN, Pennsylvania/WASHINGTON (Reuters) - ...</td>\n",
       "      <td>1</td>\n",
       "    </tr>\n",
       "    <tr>\n",
       "      <th>1</th>\n",
       "      <td>As a side note, I m just curious when did the ...</td>\n",
       "      <td>0</td>\n",
       "    </tr>\n",
       "    <tr>\n",
       "      <th>2</th>\n",
       "      <td>Dr. Milton Wolf seems to have take offense at ...</td>\n",
       "      <td>0</td>\n",
       "    </tr>\n",
       "    <tr>\n",
       "      <th>3</th>\n",
       "      <td>Just start asking questions and the Obama admi...</td>\n",
       "      <td>0</td>\n",
       "    </tr>\n",
       "    <tr>\n",
       "      <th>4</th>\n",
       "      <td>WASHINGTON (Reuters) - Republican U.S. Senator...</td>\n",
       "      <td>1</td>\n",
       "    </tr>\n",
       "  </tbody>\n",
       "</table>\n",
       "</div>"
      ],
      "text/plain": [
       "                                                text  class\n",
       "0  MONESSEN, Pennsylvania/WASHINGTON (Reuters) - ...      1\n",
       "1  As a side note, I m just curious when did the ...      0\n",
       "2  Dr. Milton Wolf seems to have take offense at ...      0\n",
       "3  Just start asking questions and the Obama admi...      0\n",
       "4  WASHINGTON (Reuters) - Republican U.S. Senator...      1"
      ]
     },
     "execution_count": 12,
     "metadata": {},
     "output_type": "execute_result"
    }
   ],
   "source": [
    "merge_data.drop(['index','title','subject','date'],axis=1,inplace=True)\n",
    "merge_data.head()"
   ]
  },
  {
   "cell_type": "code",
   "execution_count": 13,
   "id": "cdda0372",
   "metadata": {
    "execution": {
     "iopub.execute_input": "2022-01-08T13:01:49.374058Z",
     "iopub.status.busy": "2022-01-08T13:01:49.372804Z",
     "iopub.status.idle": "2022-01-08T13:01:49.375449Z",
     "shell.execute_reply": "2022-01-08T13:01:49.376042Z",
     "shell.execute_reply.started": "2022-01-08T13:00:11.733625Z"
    },
    "papermill": {
     "duration": 0.040484,
     "end_time": "2022-01-08T13:01:49.376208",
     "exception": false,
     "start_time": "2022-01-08T13:01:49.335724",
     "status": "completed"
    },
    "tags": []
   },
   "outputs": [],
   "source": [
    "import re\n",
    "from string import punctuation\n",
    "from nltk.stem import SnowballStemmer"
   ]
  },
  {
   "cell_type": "code",
   "execution_count": 14,
   "id": "f1e9f644",
   "metadata": {
    "execution": {
     "iopub.execute_input": "2022-01-08T13:01:49.445075Z",
     "iopub.status.busy": "2022-01-08T13:01:49.442700Z",
     "iopub.status.idle": "2022-01-08T13:01:49.453283Z",
     "shell.execute_reply": "2022-01-08T13:01:49.452649Z",
     "shell.execute_reply.started": "2022-01-08T13:00:11.743814Z"
    },
    "papermill": {
     "duration": 0.044761,
     "end_time": "2022-01-08T13:01:49.453423",
     "exception": false,
     "start_time": "2022-01-08T13:01:49.408662",
     "status": "completed"
    },
    "tags": []
   },
   "outputs": [],
   "source": [
    "stopword = stopwords.words('english')"
   ]
  },
  {
   "cell_type": "code",
   "execution_count": 15,
   "id": "a1d9a321",
   "metadata": {
    "execution": {
     "iopub.execute_input": "2022-01-08T13:01:49.521589Z",
     "iopub.status.busy": "2022-01-08T13:01:49.520731Z",
     "iopub.status.idle": "2022-01-08T13:01:49.524289Z",
     "shell.execute_reply": "2022-01-08T13:01:49.524841Z",
     "shell.execute_reply.started": "2022-01-08T13:00:11.755610Z"
    },
    "papermill": {
     "duration": 0.04054,
     "end_time": "2022-01-08T13:01:49.525002",
     "exception": false,
     "start_time": "2022-01-08T13:01:49.484462",
     "status": "completed"
    },
    "tags": []
   },
   "outputs": [
    {
     "data": {
      "text/plain": [
       "179"
      ]
     },
     "execution_count": 15,
     "metadata": {},
     "output_type": "execute_result"
    }
   ],
   "source": [
    "len(stopword)"
   ]
  },
  {
   "cell_type": "code",
   "execution_count": 16,
   "id": "d9929039",
   "metadata": {
    "execution": {
     "iopub.execute_input": "2022-01-08T13:01:49.598242Z",
     "iopub.status.busy": "2022-01-08T13:01:49.596517Z",
     "iopub.status.idle": "2022-01-08T13:01:49.601642Z",
     "shell.execute_reply": "2022-01-08T13:01:49.602135Z",
     "shell.execute_reply.started": "2022-01-08T13:00:11.764492Z"
    },
    "papermill": {
     "duration": 0.045893,
     "end_time": "2022-01-08T13:01:49.602304",
     "exception": false,
     "start_time": "2022-01-08T13:01:49.556411",
     "status": "completed"
    },
    "tags": []
   },
   "outputs": [],
   "source": [
    "def clean_text(text,stop_words =True,stem_words = True):\n",
    "    text = text.lower()\n",
    "    text = re.sub('\\[.*?\\]', '', text)\n",
    "    text = re.sub(\"\\\\W\",\" \",text) \n",
    "    text = re.sub('https?://\\S+|www\\.\\S+', '', text)\n",
    "    text = re.sub('<.*?>+', '', text)\n",
    "    text = re.sub('\\n', '', text)\n",
    "    text = re.sub('\\w*\\d\\w*', '', text)\n",
    "    \n",
    "    text = ''.join([c for c in text if c not in punctuation])\n",
    "    \n",
    "    if stop_words:\n",
    "        text = text.split()\n",
    "        text = [w for w in text if not w in stopword]\n",
    "        text = \" \".join(text)\n",
    "        \n",
    "    if stem_words:\n",
    "        text = text.split()\n",
    "        stemmer = SnowballStemmer('english')\n",
    "        stemmed_words = [stemmer.stem(word) for word in text]\n",
    "        text = \" \".join(stemmed_words)\n",
    "        \n",
    "    return text"
   ]
  },
  {
   "cell_type": "code",
   "execution_count": 17,
   "id": "72d6a4c3",
   "metadata": {
    "execution": {
     "iopub.execute_input": "2022-01-08T13:01:49.672139Z",
     "iopub.status.busy": "2022-01-08T13:01:49.671033Z",
     "iopub.status.idle": "2022-01-08T13:06:17.766305Z",
     "shell.execute_reply": "2022-01-08T13:06:17.765352Z"
    },
    "papermill": {
     "duration": 268.133059,
     "end_time": "2022-01-08T13:06:17.766479",
     "exception": false,
     "start_time": "2022-01-08T13:01:49.633420",
     "status": "completed"
    },
    "tags": []
   },
   "outputs": [],
   "source": [
    "merge_data['text'] = merge_data['text'].apply(clean_text)"
   ]
  },
  {
   "cell_type": "code",
   "execution_count": 18,
   "id": "c10909c1",
   "metadata": {
    "execution": {
     "iopub.execute_input": "2022-01-08T13:06:17.839076Z",
     "iopub.status.busy": "2022-01-08T13:06:17.838237Z",
     "iopub.status.idle": "2022-01-08T13:06:17.841678Z",
     "shell.execute_reply": "2022-01-08T13:06:17.842253Z"
    },
    "papermill": {
     "duration": 0.045532,
     "end_time": "2022-01-08T13:06:17.842433",
     "exception": false,
     "start_time": "2022-01-08T13:06:17.796901",
     "status": "completed"
    },
    "tags": []
   },
   "outputs": [
    {
     "data": {
      "text/html": [
       "<div>\n",
       "<style scoped>\n",
       "    .dataframe tbody tr th:only-of-type {\n",
       "        vertical-align: middle;\n",
       "    }\n",
       "\n",
       "    .dataframe tbody tr th {\n",
       "        vertical-align: top;\n",
       "    }\n",
       "\n",
       "    .dataframe thead th {\n",
       "        text-align: right;\n",
       "    }\n",
       "</style>\n",
       "<table border=\"1\" class=\"dataframe\">\n",
       "  <thead>\n",
       "    <tr style=\"text-align: right;\">\n",
       "      <th></th>\n",
       "      <th>text</th>\n",
       "      <th>class</th>\n",
       "    </tr>\n",
       "  </thead>\n",
       "  <tbody>\n",
       "    <tr>\n",
       "      <th>0</th>\n",
       "      <td>monessen pennsylvania washington reuter republ...</td>\n",
       "      <td>1</td>\n",
       "    </tr>\n",
       "    <tr>\n",
       "      <th>1</th>\n",
       "      <td>side note curious world agre forfeit rainbow s...</td>\n",
       "      <td>0</td>\n",
       "    </tr>\n",
       "    <tr>\n",
       "      <th>2</th>\n",
       "      <td>dr milton wolf seem take offens diagnosi hilla...</td>\n",
       "      <td>0</td>\n",
       "    </tr>\n",
       "    <tr>\n",
       "      <th>3</th>\n",
       "      <td>start ask question obama administr revers cour...</td>\n",
       "      <td>0</td>\n",
       "    </tr>\n",
       "    <tr>\n",
       "      <th>4</th>\n",
       "      <td>washington reuter republican u senat ron johns...</td>\n",
       "      <td>1</td>\n",
       "    </tr>\n",
       "    <tr>\n",
       "      <th>...</th>\n",
       "      <td>...</td>\n",
       "      <td>...</td>\n",
       "    </tr>\n",
       "    <tr>\n",
       "      <th>44893</th>\n",
       "      <td>influenc peddl clinton time could hope consequ</td>\n",
       "      <td>0</td>\n",
       "    </tr>\n",
       "    <tr>\n",
       "      <th>44894</th>\n",
       "      <td>better blow doll actual citizen citi l beck ge...</td>\n",
       "      <td>0</td>\n",
       "    </tr>\n",
       "    <tr>\n",
       "      <th>44895</th>\n",
       "      <td>shock liber senat dian feinstein call closer l...</td>\n",
       "      <td>0</td>\n",
       "    </tr>\n",
       "    <tr>\n",
       "      <th>44896</th>\n",
       "      <td>cairo reuter sudan summon u charg affair sunda...</td>\n",
       "      <td>1</td>\n",
       "    </tr>\n",
       "    <tr>\n",
       "      <th>44897</th>\n",
       "      <td>obama trip cuba despic embarrass heart break m...</td>\n",
       "      <td>0</td>\n",
       "    </tr>\n",
       "  </tbody>\n",
       "</table>\n",
       "<p>44898 rows × 2 columns</p>\n",
       "</div>"
      ],
      "text/plain": [
       "                                                    text  class\n",
       "0      monessen pennsylvania washington reuter republ...      1\n",
       "1      side note curious world agre forfeit rainbow s...      0\n",
       "2      dr milton wolf seem take offens diagnosi hilla...      0\n",
       "3      start ask question obama administr revers cour...      0\n",
       "4      washington reuter republican u senat ron johns...      1\n",
       "...                                                  ...    ...\n",
       "44893     influenc peddl clinton time could hope consequ      0\n",
       "44894  better blow doll actual citizen citi l beck ge...      0\n",
       "44895  shock liber senat dian feinstein call closer l...      0\n",
       "44896  cairo reuter sudan summon u charg affair sunda...      1\n",
       "44897  obama trip cuba despic embarrass heart break m...      0\n",
       "\n",
       "[44898 rows x 2 columns]"
      ]
     },
     "execution_count": 18,
     "metadata": {},
     "output_type": "execute_result"
    }
   ],
   "source": [
    "merge_data"
   ]
  },
  {
   "cell_type": "code",
   "execution_count": 19,
   "id": "c5fe2cfa",
   "metadata": {
    "execution": {
     "iopub.execute_input": "2022-01-08T13:06:17.906966Z",
     "iopub.status.busy": "2022-01-08T13:06:17.905922Z",
     "iopub.status.idle": "2022-01-08T13:06:17.911289Z",
     "shell.execute_reply": "2022-01-08T13:06:17.910775Z"
    },
    "papermill": {
     "duration": 0.037948,
     "end_time": "2022-01-08T13:06:17.911408",
     "exception": false,
     "start_time": "2022-01-08T13:06:17.873460",
     "status": "completed"
    },
    "tags": []
   },
   "outputs": [],
   "source": [
    "x = merge_data['text']\n",
    "y = merge_data['class']"
   ]
  },
  {
   "cell_type": "code",
   "execution_count": 20,
   "id": "2683f268",
   "metadata": {
    "execution": {
     "iopub.execute_input": "2022-01-08T13:06:17.980298Z",
     "iopub.status.busy": "2022-01-08T13:06:17.979372Z",
     "iopub.status.idle": "2022-01-08T13:06:17.982465Z",
     "shell.execute_reply": "2022-01-08T13:06:17.981988Z"
    },
    "papermill": {
     "duration": 0.03998,
     "end_time": "2022-01-08T13:06:17.982629",
     "exception": false,
     "start_time": "2022-01-08T13:06:17.942649",
     "status": "completed"
    },
    "tags": []
   },
   "outputs": [],
   "source": [
    "test_data= x.iloc[-10:]\n",
    "train_data = x.iloc[:-10]\n",
    "y_testl = y.iloc[-10:]\n",
    "y_train = y.iloc[:-10]"
   ]
  },
  {
   "cell_type": "code",
   "execution_count": 21,
   "id": "2833544c",
   "metadata": {
    "execution": {
     "iopub.execute_input": "2022-01-08T13:06:18.051326Z",
     "iopub.status.busy": "2022-01-08T13:06:18.050287Z",
     "iopub.status.idle": "2022-01-08T13:06:18.062668Z",
     "shell.execute_reply": "2022-01-08T13:06:18.062105Z"
    },
    "papermill": {
     "duration": 0.048187,
     "end_time": "2022-01-08T13:06:18.062810",
     "exception": false,
     "start_time": "2022-01-08T13:06:18.014623",
     "status": "completed"
    },
    "tags": []
   },
   "outputs": [],
   "source": [
    "from sklearn.model_selection import train_test_split\n",
    "x_train,x_test,y_train,y_test = train_test_split(train_data,y_train,test_size=0.25)"
   ]
  },
  {
   "cell_type": "code",
   "execution_count": 22,
   "id": "99abc1a5",
   "metadata": {
    "execution": {
     "iopub.execute_input": "2022-01-08T13:06:18.157048Z",
     "iopub.status.busy": "2022-01-08T13:06:18.146428Z",
     "iopub.status.idle": "2022-01-08T13:06:30.196270Z",
     "shell.execute_reply": "2022-01-08T13:06:30.197698Z"
    },
    "papermill": {
     "duration": 12.103138,
     "end_time": "2022-01-08T13:06:30.197994",
     "exception": false,
     "start_time": "2022-01-08T13:06:18.094856",
     "status": "completed"
    },
    "tags": []
   },
   "outputs": [],
   "source": [
    "from sklearn.feature_extraction.text import TfidfVectorizer\n",
    "tiv = TfidfVectorizer()\n",
    "x_train_vector = tiv.fit_transform(x_train)\n",
    "x_test_vector = tiv.transform(x_test)\n"
   ]
  },
  {
   "cell_type": "code",
   "execution_count": 23,
   "id": "1fc31d95",
   "metadata": {
    "execution": {
     "iopub.execute_input": "2022-01-08T13:06:30.324626Z",
     "iopub.status.busy": "2022-01-08T13:06:30.323513Z",
     "iopub.status.idle": "2022-01-08T13:06:36.380685Z",
     "shell.execute_reply": "2022-01-08T13:06:36.381571Z"
    },
    "papermill": {
     "duration": 6.125969,
     "end_time": "2022-01-08T13:06:36.381911",
     "exception": false,
     "start_time": "2022-01-08T13:06:30.255942",
     "status": "completed"
    },
    "tags": []
   },
   "outputs": [
    {
     "data": {
      "text/plain": [
       "LogisticRegression()"
      ]
     },
     "execution_count": 23,
     "metadata": {},
     "output_type": "execute_result"
    }
   ],
   "source": [
    "from sklearn.linear_model import LogisticRegression\n",
    "lr = LogisticRegression()\n",
    "lr.fit(x_train_vector,y_train)"
   ]
  },
  {
   "cell_type": "code",
   "execution_count": 24,
   "id": "5bdcd689",
   "metadata": {
    "execution": {
     "iopub.execute_input": "2022-01-08T13:06:36.502712Z",
     "iopub.status.busy": "2022-01-08T13:06:36.501625Z",
     "iopub.status.idle": "2022-01-08T13:06:36.503855Z",
     "shell.execute_reply": "2022-01-08T13:06:36.504436Z"
    },
    "papermill": {
     "duration": 0.062271,
     "end_time": "2022-01-08T13:06:36.504612",
     "exception": false,
     "start_time": "2022-01-08T13:06:36.442341",
     "status": "completed"
    },
    "tags": []
   },
   "outputs": [],
   "source": [
    "from sklearn.metrics import accuracy_score,classification_report"
   ]
  },
  {
   "cell_type": "code",
   "execution_count": 25,
   "id": "a51f2e0c",
   "metadata": {
    "execution": {
     "iopub.execute_input": "2022-01-08T13:06:36.580903Z",
     "iopub.status.busy": "2022-01-08T13:06:36.579818Z",
     "iopub.status.idle": "2022-01-08T13:06:36.586210Z",
     "shell.execute_reply": "2022-01-08T13:06:36.585740Z"
    },
    "papermill": {
     "duration": 0.047691,
     "end_time": "2022-01-08T13:06:36.586365",
     "exception": false,
     "start_time": "2022-01-08T13:06:36.538674",
     "status": "completed"
    },
    "tags": []
   },
   "outputs": [],
   "source": [
    "tst_preds = lr.predict(x_test_vector)"
   ]
  },
  {
   "cell_type": "code",
   "execution_count": 26,
   "id": "569b131c",
   "metadata": {
    "execution": {
     "iopub.execute_input": "2022-01-08T13:06:36.656852Z",
     "iopub.status.busy": "2022-01-08T13:06:36.655901Z",
     "iopub.status.idle": "2022-01-08T13:06:36.668147Z",
     "shell.execute_reply": "2022-01-08T13:06:36.668701Z"
    },
    "papermill": {
     "duration": 0.050095,
     "end_time": "2022-01-08T13:06:36.668865",
     "exception": false,
     "start_time": "2022-01-08T13:06:36.618770",
     "status": "completed"
    },
    "tags": []
   },
   "outputs": [
    {
     "name": "stdout",
     "output_type": "stream",
     "text": [
      "0.9863660666547852\n"
     ]
    }
   ],
   "source": [
    "print(lr.score(x_test_vector,y_test))"
   ]
  },
  {
   "cell_type": "code",
   "execution_count": 27,
   "id": "82c79674",
   "metadata": {
    "execution": {
     "iopub.execute_input": "2022-01-08T13:06:36.739199Z",
     "iopub.status.busy": "2022-01-08T13:06:36.738609Z",
     "iopub.status.idle": "2022-01-08T13:06:36.766545Z",
     "shell.execute_reply": "2022-01-08T13:06:36.767436Z"
    },
    "papermill": {
     "duration": 0.066524,
     "end_time": "2022-01-08T13:06:36.767698",
     "exception": false,
     "start_time": "2022-01-08T13:06:36.701174",
     "status": "completed"
    },
    "tags": []
   },
   "outputs": [
    {
     "name": "stdout",
     "output_type": "stream",
     "text": [
      "accuracy : 0.9863660666547852 \n",
      "\n",
      "\n",
      "classification_report :               precision    recall  f1-score   support\n",
      "\n",
      "           0       0.99      0.99      0.99      5915\n",
      "           1       0.98      0.99      0.99      5307\n",
      "\n",
      "    accuracy                           0.99     11222\n",
      "   macro avg       0.99      0.99      0.99     11222\n",
      "weighted avg       0.99      0.99      0.99     11222\n",
      "\n"
     ]
    }
   ],
   "source": [
    "print('accuracy : {} '.format(accuracy_score(y_test,tst_preds)))\n",
    "print('\\n')\n",
    "print( 'classification_report : {}'.format(classification_report(y_test,tst_preds)))"
   ]
  },
  {
   "cell_type": "code",
   "execution_count": 28,
   "id": "a0769447",
   "metadata": {
    "execution": {
     "iopub.execute_input": "2022-01-08T13:06:36.840816Z",
     "iopub.status.busy": "2022-01-08T13:06:36.839946Z",
     "iopub.status.idle": "2022-01-08T13:06:36.844046Z",
     "shell.execute_reply": "2022-01-08T13:06:36.844831Z"
    },
    "papermill": {
     "duration": 0.04341,
     "end_time": "2022-01-08T13:06:36.845094",
     "exception": false,
     "start_time": "2022-01-08T13:06:36.801684",
     "status": "completed"
    },
    "tags": []
   },
   "outputs": [
    {
     "name": "stdout",
     "output_type": "stream",
     "text": [
      "[1 0 0 ... 1 0 0]\n"
     ]
    }
   ],
   "source": [
    "print(tst_preds)"
   ]
  },
  {
   "cell_type": "code",
   "execution_count": 29,
   "id": "b85803cd",
   "metadata": {
    "execution": {
     "iopub.execute_input": "2022-01-08T13:06:36.917359Z",
     "iopub.status.busy": "2022-01-08T13:06:36.916617Z",
     "iopub.status.idle": "2022-01-08T13:10:04.472928Z",
     "shell.execute_reply": "2022-01-08T13:10:04.473525Z"
    },
    "papermill": {
     "duration": 207.59437,
     "end_time": "2022-01-08T13:10:04.473764",
     "exception": false,
     "start_time": "2022-01-08T13:06:36.879394",
     "status": "completed"
    },
    "tags": []
   },
   "outputs": [
    {
     "data": {
      "text/plain": [
       "GradientBoostingClassifier()"
      ]
     },
     "execution_count": 29,
     "metadata": {},
     "output_type": "execute_result"
    }
   ],
   "source": [
    "from sklearn.ensemble import GradientBoostingClassifier\n",
    "gbc = GradientBoostingClassifier()\n",
    "gbc.fit(x_train_vector,y_train)"
   ]
  },
  {
   "cell_type": "code",
   "execution_count": 30,
   "id": "f8205660",
   "metadata": {
    "execution": {
     "iopub.execute_input": "2022-01-08T13:10:04.548832Z",
     "iopub.status.busy": "2022-01-08T13:10:04.547959Z",
     "iopub.status.idle": "2022-01-08T13:10:04.645595Z",
     "shell.execute_reply": "2022-01-08T13:10:04.644981Z"
    },
    "papermill": {
     "duration": 0.137557,
     "end_time": "2022-01-08T13:10:04.645741",
     "exception": false,
     "start_time": "2022-01-08T13:10:04.508184",
     "status": "completed"
    },
    "tags": []
   },
   "outputs": [
    {
     "name": "stdout",
     "output_type": "stream",
     "text": [
      "accuracy : 0.9951880235252183 \n",
      "\n",
      "\n",
      "classification_report :               precision    recall  f1-score   support\n",
      "\n",
      "           0       1.00      0.99      1.00      5915\n",
      "           1       0.99      1.00      0.99      5307\n",
      "\n",
      "    accuracy                           1.00     11222\n",
      "   macro avg       1.00      1.00      1.00     11222\n",
      "weighted avg       1.00      1.00      1.00     11222\n",
      "\n"
     ]
    }
   ],
   "source": [
    "tst1_preds = gbc.predict(x_test_vector)\n",
    "\n",
    "print('accuracy : {} '.format(accuracy_score(y_test,tst1_preds)))\n",
    "print('\\n')\n",
    "print( 'classification_report : {}'.format(classification_report(y_test,tst1_preds)))"
   ]
  },
  {
   "cell_type": "code",
   "execution_count": 31,
   "id": "06e572d3",
   "metadata": {
    "execution": {
     "iopub.execute_input": "2022-01-08T13:10:04.717368Z",
     "iopub.status.busy": "2022-01-08T13:10:04.716424Z",
     "iopub.status.idle": "2022-01-08T13:10:04.725606Z",
     "shell.execute_reply": "2022-01-08T13:10:04.725038Z"
    },
    "papermill": {
     "duration": 0.046477,
     "end_time": "2022-01-08T13:10:04.725731",
     "exception": false,
     "start_time": "2022-01-08T13:10:04.679254",
     "status": "completed"
    },
    "tags": []
   },
   "outputs": [],
   "source": [
    "test_datav = tiv.transform(test_data)"
   ]
  },
  {
   "cell_type": "code",
   "execution_count": 32,
   "id": "72a66302",
   "metadata": {
    "execution": {
     "iopub.execute_input": "2022-01-08T13:10:04.801229Z",
     "iopub.status.busy": "2022-01-08T13:10:04.798391Z",
     "iopub.status.idle": "2022-01-08T13:10:04.804408Z",
     "shell.execute_reply": "2022-01-08T13:10:04.805283Z"
    },
    "papermill": {
     "duration": 0.046298,
     "end_time": "2022-01-08T13:10:04.805448",
     "exception": false,
     "start_time": "2022-01-08T13:10:04.759150",
     "status": "completed"
    },
    "tags": []
   },
   "outputs": [],
   "source": [
    "preds = (lr.predict(test_datav) + gbc.predict(test_datav))/2"
   ]
  },
  {
   "cell_type": "code",
   "execution_count": 33,
   "id": "fa940b97",
   "metadata": {
    "execution": {
     "iopub.execute_input": "2022-01-08T13:10:04.881405Z",
     "iopub.status.busy": "2022-01-08T13:10:04.880360Z",
     "iopub.status.idle": "2022-01-08T13:10:04.883665Z",
     "shell.execute_reply": "2022-01-08T13:10:04.883037Z"
    },
    "papermill": {
     "duration": 0.042809,
     "end_time": "2022-01-08T13:10:04.883796",
     "exception": false,
     "start_time": "2022-01-08T13:10:04.840987",
     "status": "completed"
    },
    "tags": []
   },
   "outputs": [],
   "source": [
    "preds = preds.astype(int)"
   ]
  },
  {
   "cell_type": "code",
   "execution_count": 34,
   "id": "51d151fb",
   "metadata": {
    "execution": {
     "iopub.execute_input": "2022-01-08T13:10:04.958961Z",
     "iopub.status.busy": "2022-01-08T13:10:04.957893Z",
     "iopub.status.idle": "2022-01-08T13:10:04.965717Z",
     "shell.execute_reply": "2022-01-08T13:10:04.965162Z"
    },
    "papermill": {
     "duration": 0.046296,
     "end_time": "2022-01-08T13:10:04.965853",
     "exception": false,
     "start_time": "2022-01-08T13:10:04.919557",
     "status": "completed"
    },
    "tags": []
   },
   "outputs": [
    {
     "data": {
      "text/plain": [
       "1.0"
      ]
     },
     "execution_count": 34,
     "metadata": {},
     "output_type": "execute_result"
    }
   ],
   "source": [
    "accuracy_score(y_testl,preds)"
   ]
  }
 ],
 "metadata": {
  "kernelspec": {
   "display_name": "Python 3",
   "language": "python",
   "name": "python3"
  },
  "language_info": {
   "codemirror_mode": {
    "name": "ipython",
    "version": 3
   },
   "file_extension": ".py",
   "mimetype": "text/x-python",
   "name": "python",
   "nbconvert_exporter": "python",
   "pygments_lexer": "ipython3",
   "version": "3.7.12"
  },
  "papermill": {
   "default_parameters": {},
   "duration": 511.073256,
   "end_time": "2022-01-08T13:10:05.613166",
   "environment_variables": {},
   "exception": null,
   "input_path": "__notebook__.ipynb",
   "output_path": "__notebook__.ipynb",
   "parameters": {},
   "start_time": "2022-01-08T13:01:34.539910",
   "version": "2.3.3"
  }
 },
 "nbformat": 4,
 "nbformat_minor": 5
}
